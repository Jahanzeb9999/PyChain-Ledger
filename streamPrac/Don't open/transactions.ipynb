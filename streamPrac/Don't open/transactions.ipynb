{
 "cells": [
  {
   "cell_type": "code",
   "execution_count": 1,
   "id": "e3b87e6e-9171-417d-b2fb-b03e30cd9668",
   "metadata": {},
   "outputs": [],
   "source": [
    "from web3 import Web3\n",
    "\n",
    "from web3 import EthereumTesterProvider\n"
   ]
  },
  {
   "cell_type": "code",
   "execution_count": 4,
   "id": "bdf81339-9a88-4f57-998e-9815e1eddf76",
   "metadata": {},
   "outputs": [
    {
     "name": "stderr",
     "output_type": "stream",
     "text": [
      "C:\\Users\\jahan\\anaconda3\\lib\\site-packages\\eth_tester\\backends\\__init__.py:30: UserWarning: Ethereum Tester: No backend was explicitely set, and no *full* backends were available.  Falling back to the `MockBackend` which does not support all EVM functionality.  Please refer to the `eth-tester` documentation for information on what backends are available and how to set them.\n",
      "  warnings.warn(UserWarning(\n"
     ]
    },
    {
     "data": {
      "text/plain": [
       "AttributeDict({'number': 0,\n",
       " 'parentHash': HexBytes('0x0000000000000000000000000000000000000000000000000000000000000000'),\n",
       " 'nonce': HexBytes('0x000000000000002a'),\n",
       " 'sha3Uncles': HexBytes('0x1dcc4de8dec75d7aab85b567b6ccd41ad312451b948a7413f0a142fd40d49347'),\n",
       " 'logs_bloom': 0,\n",
       " 'transactionsRoot': HexBytes('0x56e81f171bcc55a6ff8345e692c0f86e5b48e01b996cadc001622fb5e363b421'),\n",
       " 'receipts_root': '0x56e81f171bcc55a6ff8345e692c0f86e5b48e01b996cadc001622fb5e363b421',\n",
       " 'stateRoot': HexBytes('0x56e81f171bcc55a6ff8345e692c0f86e5b48e01b996cadc001622fb5e363b421'),\n",
       " 'miner': '0x0000000000000000000000000000000000000000',\n",
       " 'difficulty': 131072,\n",
       " 'totalDifficulty': 131072,\n",
       " 'size': 0,\n",
       " 'extraData': HexBytes('0x0000000000000000000000000000000000000000000000000000000000000000'),\n",
       " 'gasLimit': 3141592,\n",
       " 'gasUsed': 0,\n",
       " 'timestamp': 1656550834,\n",
       " 'transactions': [],\n",
       " 'uncles': [],\n",
       " 'hash': HexBytes('0x33699cdf4190d12987d65baa3d01311a0e311426d16faa160844830c975f13f8')})"
      ]
     },
     "execution_count": 4,
     "metadata": {},
     "output_type": "execute_result"
    }
   ],
   "source": [
    "# Create an instance of the EthereumTesterProvider\n",
    "provider = EthereumTesterProvider()\n",
    "\n",
    "# Update the Web3 instance to include the provider\n",
    "w3 = Web3(provider)\n",
    "\n",
    "# Access information for the most recent block\n",
    "w3.eth.get_block(\"latest\")\n"
   ]
  },
  {
   "cell_type": "code",
   "execution_count": 5,
   "id": "65882ed3-79c5-4c23-bd1d-d8e166467c9a",
   "metadata": {},
   "outputs": [
    {
     "data": {
      "text/plain": [
       "['0xaBbACadABa000000000000000000000000000000',\n",
       " '0xaBbACaDaBA000000000000000000000000000001',\n",
       " '0xAbbAcaDaBA000000000000000000000000000002',\n",
       " '0xabBACadaBA000000000000000000000000000003',\n",
       " '0xabbAcADABa000000000000000000000000000004',\n",
       " '0xaBBACADABA000000000000000000000000000005',\n",
       " '0xaBbaCadaBA000000000000000000000000000006',\n",
       " '0xAbbAcAdaBA000000000000000000000000000007',\n",
       " '0xaBBAcadabA000000000000000000000000000008',\n",
       " '0xABbacaDabA000000000000000000000000000009']"
      ]
     },
     "execution_count": 5,
     "metadata": {},
     "output_type": "execute_result"
    }
   ],
   "source": [
    "w3.eth.accounts"
   ]
  },
  {
   "cell_type": "code",
   "execution_count": 10,
   "id": "5b260081-cd0d-430f-b5db-faf5cf0d5cac",
   "metadata": {},
   "outputs": [
    {
     "name": "stdout",
     "output_type": "stream",
     "text": [
      "b'\\xbeO\\xbfr\\x05X@\\x01\\xdf4~\\xddQ\\t\\xc8\\xb9\\x99d\\x98\\x8f\\xb1\\xads\\x97\\xcc\\xb8b\\xd3U\\x13j\\xd6'\n"
     ]
    }
   ],
   "source": [
    "sender = \"0xabBACadaBA000000000000000000000000000003\"\n",
    "\n",
    "reciever = \"0xabbAcADABa000000000000000000000000000004\"\n",
    "\n",
    "gas_units = 21000\n",
    "\n",
    "value = w3.toWei(200, 'ether')\n",
    "\n",
    "transaction = w3.eth.send_transaction({'to' : reciever, 'from' : sender, 'gas': gas_units, 'value' : value})\n",
    "print(transaction)"
   ]
  },
  {
   "cell_type": "code",
   "execution_count": 11,
   "id": "0d3475bb-a319-482d-a1a3-1083616c804d",
   "metadata": {},
   "outputs": [
    {
     "data": {
      "text/plain": [
       "AttributeDict({'gasUsed': 21000,\n",
       " 'cumulativeGasUsed': 21000,\n",
       " 'contractAddress': '0x97C325cc598dAA0954c28F6421A345B45FBA079B',\n",
       " 'logs': [],\n",
       " 'transactionHash': HexBytes('0xbe4fbf7205584001df347edd5109c8b99964988fb1ad7397ccb862d355136ad6'),\n",
       " 'blockNumber': 3,\n",
       " 'blockHash': HexBytes('0xdc045bf6527a0fc0fb8423c7360cc15445b77da5b8178de9a883612e23bae8fb'),\n",
       " 'transactionIndex': 0,\n",
       " 'status': 0})"
      ]
     },
     "execution_count": 11,
     "metadata": {},
     "output_type": "execute_result"
    }
   ],
   "source": [
    "w3.eth.getTransactionReceipt(transaction)"
   ]
  },
  {
   "cell_type": "code",
   "execution_count": 12,
   "id": "9b947be0-4bcf-47c5-97f2-4324846a043b",
   "metadata": {},
   "outputs": [
    {
     "data": {
      "text/plain": [
       "AttributeDict({'number': 3,\n",
       " 'parentHash': HexBytes('0x555df049fdbdec5615151db5a16e6c7ed961e0d00b601023cb61614c5ed05345'),\n",
       " 'nonce': HexBytes('0x000000000000002a'),\n",
       " 'sha3Uncles': HexBytes('0x1dcc4de8dec75d7aab85b567b6ccd41ad312451b948a7413f0a142fd40d49347'),\n",
       " 'logs_bloom': 0,\n",
       " 'transactionsRoot': HexBytes('0x56e81f171bcc55a6ff8345e692c0f86e5b48e01b996cadc001622fb5e363b421'),\n",
       " 'receipts_root': '0x56e81f171bcc55a6ff8345e692c0f86e5b48e01b996cadc001622fb5e363b421',\n",
       " 'stateRoot': HexBytes('0x56e81f171bcc55a6ff8345e692c0f86e5b48e01b996cadc001622fb5e363b421'),\n",
       " 'miner': '0x0000000000000000000000000000000000000000',\n",
       " 'difficulty': 131072,\n",
       " 'totalDifficulty': 262144,\n",
       " 'size': 0,\n",
       " 'extraData': HexBytes('0x0000000000000000000000000000000000000000000000000000000000000000'),\n",
       " 'gasLimit': 3141592,\n",
       " 'gasUsed': 21000,\n",
       " 'timestamp': 1656550837,\n",
       " 'transactions': [HexBytes('0xbe4fbf7205584001df347edd5109c8b99964988fb1ad7397ccb862d355136ad6')],\n",
       " 'uncles': [],\n",
       " 'hash': HexBytes('0xdc045bf6527a0fc0fb8423c7360cc15445b77da5b8178de9a883612e23bae8fb')})"
      ]
     },
     "execution_count": 12,
     "metadata": {},
     "output_type": "execute_result"
    }
   ],
   "source": [
    "w3.eth.get_block(\"latest\")"
   ]
  },
  {
   "cell_type": "code",
   "execution_count": null,
   "id": "6efa53c2-6ce0-4c11-8f18-d17ea8d063f5",
   "metadata": {},
   "outputs": [],
   "source": []
  }
 ],
 "metadata": {
  "kernelspec": {
   "display_name": "Python 3 (ipykernel)",
   "language": "python",
   "name": "python3"
  },
  "language_info": {
   "codemirror_mode": {
    "name": "ipython",
    "version": 3
   },
   "file_extension": ".py",
   "mimetype": "text/x-python",
   "name": "python",
   "nbconvert_exporter": "python",
   "pygments_lexer": "ipython3",
   "version": "3.8.12"
  }
 },
 "nbformat": 4,
 "nbformat_minor": 5
}
